{
  "nbformat": 4,
  "nbformat_minor": 0,
  "metadata": {
    "colab": {
      "name": "Untitled2.ipynb",
      "provenance": []
    },
    "kernelspec": {
      "name": "python3",
      "display_name": "Python 3"
    }
  },
  "cells": [
    {
      "cell_type": "code",
      "metadata": {
        "id": "v08AP4XAwnLE",
        "colab_type": "code",
        "colab": {
          "base_uri": "https://localhost:8080/",
          "height": 170
        },
        "outputId": "acdf0542-22f2-4fe9-9e11-545ab7fec489"
      },
      "source": [
        "# If you forked the repository, you can replace the link.\n",
        "repo_url = 'https://github.com/gis81576/keras'\n",
        "import os\n",
        "\n",
        "repo_dir_path = os.path.abspath(os.path.join('.', os.path.basename(repo_url)))\n",
        "\n",
        "!git clone {repo_url}\n",
        "%cd {repo_dir_path}\n",
        "\n",
        "print('Pull it so that we have the latest code/data')\n",
        "!git pull"
      ],
      "execution_count": 1,
      "outputs": [
        {
          "output_type": "stream",
          "text": [
            "Cloning into 'keras'...\n",
            "remote: Enumerating objects: 6, done.\u001b[K\n",
            "remote: Counting objects: 100% (6/6), done.\u001b[K\n",
            "remote: Compressing objects: 100% (4/4), done.\u001b[K\n",
            "remote: Total 6 (delta 0), reused 0 (delta 0), pack-reused 0\u001b[K\n",
            "Unpacking objects: 100% (6/6), done.\n",
            "/content/keras\n",
            "Pull it so that we have the latest code/data\n",
            "Already up to date.\n"
          ],
          "name": "stdout"
        }
      ]
    },
    {
      "cell_type": "code",
      "metadata": {
        "id": "rGaTqRpGyx-J",
        "colab_type": "code",
        "colab": {
          "base_uri": "https://localhost:8080/",
          "height": 51
        },
        "outputId": "3ce28cc6-7201-4e23-fc94-2fddb4736480"
      },
      "source": [
        "import numpy as np\n",
        "import pandas as pd\n",
        "from tensorflow.keras.models import Sequential\n",
        "from tensorflow.keras.layers import Dense\n",
        "\n",
        "np.random.seed(10)  # 指定亂數種子\n",
        "# 載入糖尿病資料集\n",
        "df = pd.read_csv(\"./diabetes.csv\")\n",
        "dataset = df.values\n",
        "np.random.shuffle(dataset)  # 使用亂數打亂資料\n",
        "# 分割成特徵資料和標籤資料\n",
        "X = dataset[:, 0:8]\n",
        "Y = dataset[:, 8]\n",
        "# 特徵標準化\n",
        "X -= X.mean(axis=0)\n",
        "X /= X.std(axis=0)\n",
        "# 定義模型\n",
        "model = Sequential()\n",
        "model.add(Dense(10, input_shape=(8,), activation=\"relu\"))\n",
        "model.add(Dense(8, activation=\"relu\"))\n",
        "model.add(Dense(1, activation=\"sigmoid\"))\n",
        "# model.summary()   # 顯示模型摘要資訊\n",
        "# 編譯模型\n",
        "model.compile(loss=\"binary_crossentropy\", optimizer=\"sgd\",\n",
        "              metrics=[\"accuracy\"]) \n",
        "# 訓練模型\n",
        "model.fit(X, Y, epochs=150, batch_size=10, verbose=0)\n",
        "# 評估模型\n",
        "loss, accuracy = model.evaluate(X, Y)\n",
        "print(\"準確度 = {:.2f}\".format(accuracy))"
      ],
      "execution_count": 2,
      "outputs": [
        {
          "output_type": "stream",
          "text": [
            "24/24 [==============================] - 0s 1ms/step - loss: 0.4033 - accuracy: 0.8125\n",
            "準確度 = 0.81\n"
          ],
          "name": "stdout"
        }
      ]
    }
  ]
}